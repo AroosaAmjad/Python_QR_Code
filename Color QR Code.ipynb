{
 "cells": [
  {
   "cell_type": "code",
   "execution_count": 5,
   "id": "7fe90f3a",
   "metadata": {},
   "outputs": [],
   "source": [
    "import qrcode\n",
    "from PIL import Image\n",
    "\n",
    "qr = qrcode.QRCode(version=1,\n",
    "                  error_correction = qrcode.constants.ERROR_CORRECT_H,\n",
    "                  box_size=10, border=4,)\n",
    "qr.add_data(\"Hi this is my colorful QR-Code.Thanks for scanning !\")\n",
    "qr.make(fit=True)\n",
    "img= qr.make_image(fill_color=\"red\",back_color=\"white\")\n",
    "img.save(\"Color QR.png\")"
   ]
  },
  {
   "cell_type": "code",
   "execution_count": null,
   "id": "a75a8ecc",
   "metadata": {},
   "outputs": [],
   "source": []
  }
 ],
 "metadata": {
  "kernelspec": {
   "display_name": "Python 3 (ipykernel)",
   "language": "python",
   "name": "python3"
  },
  "language_info": {
   "codemirror_mode": {
    "name": "ipython",
    "version": 3
   },
   "file_extension": ".py",
   "mimetype": "text/x-python",
   "name": "python",
   "nbconvert_exporter": "python",
   "pygments_lexer": "ipython3",
   "version": "3.11.3"
  }
 },
 "nbformat": 4,
 "nbformat_minor": 5
}
